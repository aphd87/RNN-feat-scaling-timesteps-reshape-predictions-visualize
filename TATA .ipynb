{
 "cells": [
  {
   "cell_type": "markdown",
   "metadata": {},
   "source": [
    "# Stock Prices Prediction Using Keras Long Term Short Memory"
   ]
  },
  {
   "cell_type": "code",
   "execution_count": 1,
   "metadata": {},
   "outputs": [],
   "source": [
    "# Part 1 - Data Preprocessing\n",
    "\n",
    "# Importing the libraries\n",
    "import numpy as np\n",
    "import matplotlib.pyplot as plt\n",
    "import pandas as pd\n",
    "%matplotlib inline"
   ]
  },
  {
   "cell_type": "code",
   "execution_count": 2,
   "metadata": {},
   "outputs": [],
   "source": [
    "# Importing the training set\n",
    "dataset_train = pd.read_csv('NSE-TATAGLOBAL.csv')\n",
    "training_set = dataset_train.iloc[:, 1:2].values"
   ]
  },
  {
   "cell_type": "code",
   "execution_count": 3,
   "metadata": {},
   "outputs": [
    {
     "data": {
      "text/html": [
       "<div>\n",
       "<style scoped>\n",
       "    .dataframe tbody tr th:only-of-type {\n",
       "        vertical-align: middle;\n",
       "    }\n",
       "\n",
       "    .dataframe tbody tr th {\n",
       "        vertical-align: top;\n",
       "    }\n",
       "\n",
       "    .dataframe thead th {\n",
       "        text-align: right;\n",
       "    }\n",
       "</style>\n",
       "<table border=\"1\" class=\"dataframe\">\n",
       "  <thead>\n",
       "    <tr style=\"text-align: right;\">\n",
       "      <th></th>\n",
       "      <th>Date</th>\n",
       "      <th>Open</th>\n",
       "      <th>High</th>\n",
       "      <th>Low</th>\n",
       "      <th>Last</th>\n",
       "      <th>Close</th>\n",
       "      <th>Total Trade Quantity</th>\n",
       "      <th>Turnover (Lacs)</th>\n",
       "    </tr>\n",
       "  </thead>\n",
       "  <tbody>\n",
       "    <tr>\n",
       "      <th>0</th>\n",
       "      <td>2018-09-28</td>\n",
       "      <td>234.05</td>\n",
       "      <td>235.95</td>\n",
       "      <td>230.20</td>\n",
       "      <td>233.50</td>\n",
       "      <td>233.75</td>\n",
       "      <td>3069914</td>\n",
       "      <td>7162.35</td>\n",
       "    </tr>\n",
       "    <tr>\n",
       "      <th>1</th>\n",
       "      <td>2018-09-27</td>\n",
       "      <td>234.55</td>\n",
       "      <td>236.80</td>\n",
       "      <td>231.10</td>\n",
       "      <td>233.80</td>\n",
       "      <td>233.25</td>\n",
       "      <td>5082859</td>\n",
       "      <td>11859.95</td>\n",
       "    </tr>\n",
       "    <tr>\n",
       "      <th>2</th>\n",
       "      <td>2018-09-26</td>\n",
       "      <td>240.00</td>\n",
       "      <td>240.00</td>\n",
       "      <td>232.50</td>\n",
       "      <td>235.00</td>\n",
       "      <td>234.25</td>\n",
       "      <td>2240909</td>\n",
       "      <td>5248.60</td>\n",
       "    </tr>\n",
       "    <tr>\n",
       "      <th>3</th>\n",
       "      <td>2018-09-25</td>\n",
       "      <td>233.30</td>\n",
       "      <td>236.75</td>\n",
       "      <td>232.00</td>\n",
       "      <td>236.25</td>\n",
       "      <td>236.10</td>\n",
       "      <td>2349368</td>\n",
       "      <td>5503.90</td>\n",
       "    </tr>\n",
       "    <tr>\n",
       "      <th>4</th>\n",
       "      <td>2018-09-24</td>\n",
       "      <td>233.55</td>\n",
       "      <td>239.20</td>\n",
       "      <td>230.75</td>\n",
       "      <td>234.00</td>\n",
       "      <td>233.30</td>\n",
       "      <td>3423509</td>\n",
       "      <td>7999.55</td>\n",
       "    </tr>\n",
       "  </tbody>\n",
       "</table>\n",
       "</div>"
      ],
      "text/plain": [
       "         Date    Open    High     Low    Last   Close  Total Trade Quantity  \\\n",
       "0  2018-09-28  234.05  235.95  230.20  233.50  233.75               3069914   \n",
       "1  2018-09-27  234.55  236.80  231.10  233.80  233.25               5082859   \n",
       "2  2018-09-26  240.00  240.00  232.50  235.00  234.25               2240909   \n",
       "3  2018-09-25  233.30  236.75  232.00  236.25  236.10               2349368   \n",
       "4  2018-09-24  233.55  239.20  230.75  234.00  233.30               3423509   \n",
       "\n",
       "   Turnover (Lacs)  \n",
       "0          7162.35  \n",
       "1         11859.95  \n",
       "2          5248.60  \n",
       "3          5503.90  \n",
       "4          7999.55  "
      ]
     },
     "execution_count": 3,
     "metadata": {},
     "output_type": "execute_result"
    }
   ],
   "source": [
    "dataset_train.head()"
   ]
  },
  {
   "cell_type": "code",
   "execution_count": 4,
   "metadata": {},
   "outputs": [],
   "source": [
    "# Feature Scaling\n",
    "from sklearn.preprocessing import MinMaxScaler\n",
    "sc = MinMaxScaler(feature_range = (0, 1))\n",
    "training_set_scaled = sc.fit_transform(training_set)"
   ]
  },
  {
   "cell_type": "code",
   "execution_count": 5,
   "metadata": {},
   "outputs": [],
   "source": [
    "# Creating a data structure with 60 timesteps and 1 output\n",
    "X_train = []\n",
    "y_train = []\n",
    "for i in range(60, 2035):\n",
    "    X_train.append(training_set_scaled[i-60:i, 0])\n",
    "    y_train.append(training_set_scaled[i, 0])\n",
    "X_train, y_train = np.array(X_train), np.array(y_train)"
   ]
  },
  {
   "cell_type": "code",
   "execution_count": 6,
   "metadata": {},
   "outputs": [],
   "source": [
    "# Reshaping\n",
    "X_train = np.reshape(X_train, (X_train.shape[0], X_train.shape[1], 1))"
   ]
  },
  {
   "cell_type": "code",
   "execution_count": 7,
   "metadata": {},
   "outputs": [],
   "source": [
    "# Part 2 - Building the RNN\n",
    "\n",
    "# Importing the Keras libraries and packages\n",
    "from keras.models import Sequential\n",
    "from keras.layers import Dense\n",
    "from keras.layers import LSTM\n",
    "from keras.layers import Dropout"
   ]
  },
  {
   "cell_type": "code",
   "execution_count": 8,
   "metadata": {},
   "outputs": [],
   "source": [
    "# Initialising the RNN\n",
    "regressor = Sequential()\n",
    "\n",
    "# Adding the first LSTM layer and some Dropout regularisation\n",
    "regressor.add(LSTM(units = 50, return_sequences = True, input_shape = (X_train.shape[1], 1)))\n",
    "regressor.add(Dropout(0.2))"
   ]
  },
  {
   "cell_type": "code",
   "execution_count": 9,
   "metadata": {},
   "outputs": [],
   "source": [
    "# Adding a second LSTM layer and some Dropout regularisation\n",
    "regressor.add(LSTM(units = 50, return_sequences = True))\n",
    "regressor.add(Dropout(0.2))"
   ]
  },
  {
   "cell_type": "code",
   "execution_count": 10,
   "metadata": {},
   "outputs": [],
   "source": [
    "\n",
    "# Adding a third LSTM layer and some Dropout regularisation\n",
    "regressor.add(LSTM(units = 50, return_sequences = True))\n",
    "regressor.add(Dropout(0.2))"
   ]
  },
  {
   "cell_type": "code",
   "execution_count": 11,
   "metadata": {},
   "outputs": [],
   "source": [
    "# Adding a fourth LSTM layer and some Dropout regularisation\n",
    "regressor.add(LSTM(units = 50))\n",
    "regressor.add(Dropout(0.2))\n"
   ]
  },
  {
   "cell_type": "code",
   "execution_count": 12,
   "metadata": {},
   "outputs": [
    {
     "name": "stdout",
     "output_type": "stream",
     "text": [
      "Epoch 1/50\n",
      "62/62 [==============================] - 10s 59ms/step - loss: 0.0102\n",
      "Epoch 2/50\n",
      "62/62 [==============================] - 4s 67ms/step - loss: 0.0032\n",
      "Epoch 3/50\n",
      "62/62 [==============================] - 4s 60ms/step - loss: 0.0023\n",
      "Epoch 4/50\n",
      "62/62 [==============================] - 4s 62ms/step - loss: 0.0024\n",
      "Epoch 5/50\n",
      "62/62 [==============================] - 4s 57ms/step - loss: 0.0024\n",
      "Epoch 6/50\n",
      "62/62 [==============================] - 4s 57ms/step - loss: 0.0022\n",
      "Epoch 7/50\n",
      "62/62 [==============================] - 4s 60ms/step - loss: 0.0022\n",
      "Epoch 8/50\n",
      "62/62 [==============================] - 4s 72ms/step - loss: 0.0021\n",
      "Epoch 9/50\n",
      "62/62 [==============================] - 4s 66ms/step - loss: 0.0018\n",
      "Epoch 10/50\n",
      "62/62 [==============================] - 4s 58ms/step - loss: 0.0019\n",
      "Epoch 11/50\n",
      "62/62 [==============================] - 4s 57ms/step - loss: 0.0018\n",
      "Epoch 12/50\n",
      "62/62 [==============================] - 5s 73ms/step - loss: 0.0020\n",
      "Epoch 13/50\n",
      "62/62 [==============================] - 4s 63ms/step - loss: 0.0017\n",
      "Epoch 14/50\n",
      "62/62 [==============================] - 4s 64ms/step - loss: 0.0017\n",
      "Epoch 15/50\n",
      "62/62 [==============================] - 3s 56ms/step - loss: 0.0019\n",
      "Epoch 16/50\n",
      "62/62 [==============================] - 4s 59ms/step - loss: 0.0018\n",
      "Epoch 17/50\n",
      "62/62 [==============================] - 4s 57ms/step - loss: 0.0015\n",
      "Epoch 18/50\n",
      "62/62 [==============================] - 4s 66ms/step - loss: 0.0015\n",
      "Epoch 19/50\n",
      "62/62 [==============================] - 4s 57ms/step - loss: 0.0015\n",
      "Epoch 20/50\n",
      "62/62 [==============================] - 4s 59ms/step - loss: 0.0013\n",
      "Epoch 21/50\n",
      "62/62 [==============================] - 4s 59ms/step - loss: 0.0015\n",
      "Epoch 22/50\n",
      "62/62 [==============================] - 3s 56ms/step - loss: 0.0013\n",
      "Epoch 23/50\n",
      "62/62 [==============================] - 4s 62ms/step - loss: 0.0012\n",
      "Epoch 24/50\n",
      "62/62 [==============================] - 4s 66ms/step - loss: 0.0012\n",
      "Epoch 25/50\n",
      "62/62 [==============================] - 4s 61ms/step - loss: 0.0014\n",
      "Epoch 26/50\n",
      "62/62 [==============================] - 4s 57ms/step - loss: 0.0014\n",
      "Epoch 27/50\n",
      "62/62 [==============================] - 4s 58ms/step - loss: 0.0011\n",
      "Epoch 28/50\n",
      "62/62 [==============================] - 4s 57ms/step - loss: 0.0011\n",
      "Epoch 29/50\n",
      "62/62 [==============================] - 4s 60ms/step - loss: 0.0011\n",
      "Epoch 30/50\n",
      "62/62 [==============================] - 4s 57ms/step - loss: 0.0015\n",
      "Epoch 31/50\n",
      "62/62 [==============================] - 4s 59ms/step - loss: 0.0012\n",
      "Epoch 32/50\n",
      "62/62 [==============================] - 4s 61ms/step - loss: 0.0012\n",
      "Epoch 33/50\n",
      "62/62 [==============================] - 4s 65ms/step - loss: 0.0012\n",
      "Epoch 34/50\n",
      "62/62 [==============================] - 4s 59ms/step - loss: 0.0011\n",
      "Epoch 35/50\n",
      "62/62 [==============================] - 3s 56ms/step - loss: 0.0011\n",
      "Epoch 36/50\n",
      "62/62 [==============================] - 4s 61ms/step - loss: 0.0011\n",
      "Epoch 37/50\n",
      "62/62 [==============================] - 4s 61ms/step - loss: 0.0011\n",
      "Epoch 38/50\n",
      "62/62 [==============================] - 4s 64ms/step - loss: 9.2303e-04\n",
      "Epoch 39/50\n",
      "62/62 [==============================] - 4s 63ms/step - loss: 9.1052e-04\n",
      "Epoch 40/50\n",
      "62/62 [==============================] - 4s 58ms/step - loss: 9.2522e-04\n",
      "Epoch 41/50\n",
      "62/62 [==============================] - 4s 59ms/step - loss: 9.6794e-04\n",
      "Epoch 42/50\n",
      "62/62 [==============================] - 4s 67ms/step - loss: 8.7454e-04\n",
      "Epoch 43/50\n",
      "62/62 [==============================] - 4s 61ms/step - loss: 8.7244e-04\n",
      "Epoch 44/50\n",
      "62/62 [==============================] - 4s 64ms/step - loss: 8.1327e-04\n",
      "Epoch 45/50\n",
      "62/62 [==============================] - 4s 60ms/step - loss: 9.9499e-04\n",
      "Epoch 46/50\n",
      "62/62 [==============================] - 4s 68ms/step - loss: 8.9106e-04\n",
      "Epoch 47/50\n",
      "62/62 [==============================] - 4s 65ms/step - loss: 9.6365e-04\n",
      "Epoch 48/50\n",
      "62/62 [==============================] - 3s 56ms/step - loss: 9.4460e-04\n",
      "Epoch 49/50\n",
      "62/62 [==============================] - 4s 60ms/step - loss: 8.5899e-04\n",
      "Epoch 50/50\n",
      "62/62 [==============================] - 4s 67ms/step - loss: 8.5114e-04\n"
     ]
    },
    {
     "data": {
      "text/plain": [
       "<keras.callbacks.History at 0x273c3ca8ca0>"
      ]
     },
     "execution_count": 12,
     "metadata": {},
     "output_type": "execute_result"
    }
   ],
   "source": [
    "# Adding the output layer\n",
    "regressor.add(Dense(units = 1))\n",
    "\n",
    "# Compiling the RNN\n",
    "regressor.compile(optimizer = 'adam', loss = 'mean_squared_error')\n",
    "\n",
    "# Fitting the RNN to the Training set\n",
    "regressor.fit(X_train, y_train, epochs = 50, batch_size = 32)\n",
    "\n"
   ]
  },
  {
   "cell_type": "code",
   "execution_count": 26,
   "metadata": {},
   "outputs": [
    {
     "name": "stdout",
     "output_type": "stream",
     "text": [
      "Model: \"sequential\"\n",
      "_________________________________________________________________\n",
      " Layer (type)                Output Shape              Param #   \n",
      "=================================================================\n",
      " lstm (LSTM)                 (None, 60, 50)            10400     \n",
      "                                                                 \n",
      " dropout (Dropout)           (None, 60, 50)            0         \n",
      "                                                                 \n",
      " lstm_1 (LSTM)               (None, 60, 50)            20200     \n",
      "                                                                 \n",
      " dropout_1 (Dropout)         (None, 60, 50)            0         \n",
      "                                                                 \n",
      " lstm_2 (LSTM)               (None, 60, 50)            20200     \n",
      "                                                                 \n",
      " dropout_2 (Dropout)         (None, 60, 50)            0         \n",
      "                                                                 \n",
      " lstm_3 (LSTM)               (None, 50)                20200     \n",
      "                                                                 \n",
      " dropout_3 (Dropout)         (None, 50)                0         \n",
      "                                                                 \n",
      " dense (Dense)               (None, 1)                 51        \n",
      "                                                                 \n",
      "=================================================================\n",
      "Total params: 71,051\n",
      "Trainable params: 71,051\n",
      "Non-trainable params: 0\n",
      "_________________________________________________________________\n"
     ]
    }
   ],
   "source": [
    "regressor.summary()"
   ]
  },
  {
   "cell_type": "code",
   "execution_count": 28,
   "metadata": {},
   "outputs": [
    {
     "name": "stdout",
     "output_type": "stream",
     "text": [
      "Epoch 1/50\n",
      "62/62 [==============================] - 11s 58ms/step - loss: 0.0010\n",
      "Epoch 2/50\n",
      "62/62 [==============================] - 4s 57ms/step - loss: 8.6853e-04\n",
      "Epoch 3/50\n",
      "62/62 [==============================] - 4s 67ms/step - loss: 8.7959e-04\n",
      "Epoch 4/50\n",
      "62/62 [==============================] - 3s 54ms/step - loss: 8.9678e-04\n",
      "Epoch 5/50\n",
      "62/62 [==============================] - 3s 54ms/step - loss: 8.2711e-04\n",
      "Epoch 6/50\n",
      "62/62 [==============================] - 3s 54ms/step - loss: 9.1052e-04\n",
      "Epoch 7/50\n",
      "62/62 [==============================] - 4s 57ms/step - loss: 9.0011e-04\n",
      "Epoch 8/50\n",
      "62/62 [==============================] - 4s 66ms/step - loss: 8.8283e-04\n",
      "Epoch 9/50\n",
      "62/62 [==============================] - 3s 54ms/step - loss: 7.9527e-04\n",
      "Epoch 10/50\n",
      "62/62 [==============================] - 3s 54ms/step - loss: 7.4039e-04\n",
      "Epoch 11/50\n",
      "62/62 [==============================] - 4s 63ms/step - loss: 7.4640e-04\n",
      "Epoch 12/50\n",
      "62/62 [==============================] - 4s 68ms/step - loss: 7.4692e-04\n",
      "Epoch 13/50\n",
      "62/62 [==============================] - 4s 57ms/step - loss: 8.4068e-04\n",
      "Epoch 14/50\n",
      "62/62 [==============================] - 4s 61ms/step - loss: 7.9810e-04\n",
      "Epoch 15/50\n",
      "62/62 [==============================] - 4s 58ms/step - loss: 7.5117e-04\n",
      "Epoch 16/50\n",
      "62/62 [==============================] - 4s 65ms/step - loss: 8.7838e-04\n",
      "Epoch 17/50\n",
      "62/62 [==============================] - 3s 55ms/step - loss: 8.8073e-04\n",
      "Epoch 18/50\n",
      "62/62 [==============================] - 4s 61ms/step - loss: 7.7247e-04\n",
      "Epoch 19/50\n",
      "62/62 [==============================] - 4s 62ms/step - loss: 9.1057e-04\n",
      "Epoch 20/50\n",
      "62/62 [==============================] - 4s 61ms/step - loss: 6.7728e-04\n",
      "Epoch 21/50\n",
      "62/62 [==============================] - 4s 59ms/step - loss: 6.5305e-04\n",
      "Epoch 22/50\n",
      "62/62 [==============================] - 4s 59ms/step - loss: 7.3116e-04\n",
      "Epoch 23/50\n",
      "62/62 [==============================] - 4s 63ms/step - loss: 9.1544e-04\n",
      "Epoch 24/50\n",
      "62/62 [==============================] - 4s 61ms/step - loss: 8.8377e-04\n",
      "Epoch 25/50\n",
      "62/62 [==============================] - 4s 65ms/step - loss: 7.0987e-04\n",
      "Epoch 26/50\n",
      "62/62 [==============================] - 3s 55ms/step - loss: 8.7751e-04\n",
      "Epoch 27/50\n",
      "62/62 [==============================] - 4s 59ms/step - loss: 7.1509e-04\n",
      "Epoch 28/50\n",
      "62/62 [==============================] - 4s 62ms/step - loss: 6.8268e-04\n",
      "Epoch 29/50\n",
      "62/62 [==============================] - 4s 57ms/step - loss: 6.2719e-04\n",
      "Epoch 30/50\n",
      "62/62 [==============================] - 3s 55ms/step - loss: 5.8330e-04\n",
      "Epoch 31/50\n",
      "62/62 [==============================] - 3s 53ms/step - loss: 6.8553e-04\n",
      "Epoch 32/50\n",
      "62/62 [==============================] - 3s 53ms/step - loss: 6.9324e-04\n",
      "Epoch 33/50\n",
      "62/62 [==============================] - 4s 61ms/step - loss: 6.0053e-04\n",
      "Epoch 34/50\n",
      "62/62 [==============================] - 4s 67ms/step - loss: 6.3784e-04\n",
      "Epoch 35/50\n",
      "62/62 [==============================] - 4s 63ms/step - loss: 7.2885e-04\n",
      "Epoch 36/50\n",
      "62/62 [==============================] - 4s 63ms/step - loss: 6.6453e-04\n",
      "Epoch 37/50\n",
      "62/62 [==============================] - 3s 55ms/step - loss: 6.0808e-04\n",
      "Epoch 38/50\n",
      "62/62 [==============================] - 4s 58ms/step - loss: 7.1278e-04\n",
      "Epoch 39/50\n",
      "62/62 [==============================] - 3s 54ms/step - loss: 6.5078e-04\n",
      "Epoch 40/50\n",
      "62/62 [==============================] - 3s 55ms/step - loss: 6.5951e-04\n",
      "Epoch 41/50\n",
      "62/62 [==============================] - 4s 60ms/step - loss: 7.0839e-04\n",
      "Epoch 42/50\n",
      "62/62 [==============================] - 4s 63ms/step - loss: 6.2569e-04\n",
      "Epoch 43/50\n",
      "62/62 [==============================] - 4s 59ms/step - loss: 6.5297e-04\n",
      "Epoch 44/50\n",
      "62/62 [==============================] - 3s 53ms/step - loss: 5.7322e-04\n",
      "Epoch 45/50\n",
      "62/62 [==============================] - 4s 62ms/step - loss: 6.5603e-04\n",
      "Epoch 46/50\n",
      "62/62 [==============================] - 4s 61ms/step - loss: 7.4938e-04\n",
      "Epoch 47/50\n",
      "62/62 [==============================] - 4s 65ms/step - loss: 5.7884e-04\n",
      "Epoch 48/50\n",
      "62/62 [==============================] - 3s 54ms/step - loss: 5.7995e-04\n",
      "Epoch 49/50\n",
      "62/62 [==============================] - 4s 61ms/step - loss: 5.6491e-04\n",
      "Epoch 50/50\n",
      "62/62 [==============================] - 3s 55ms/step - loss: 5.6177e-04\n"
     ]
    },
    {
     "data": {
      "text/plain": [
       "<keras.callbacks.History at 0x273d1de30d0>"
      ]
     },
     "execution_count": 28,
     "metadata": {},
     "output_type": "execute_result"
    }
   ],
   "source": [
    "#Compile the model\n",
    "regressor.compile(optimizer='adam',loss='mean_squared_error')\n",
    "regressor.fit(X_train,y_train,epochs=50)"
   ]
  },
  {
   "cell_type": "code",
   "execution_count": 13,
   "metadata": {},
   "outputs": [],
   "source": [
    "# Part 3 - Making the predictions and visualising the results\n",
    "\n",
    "# Getting the real stock price of 2017\n",
    "dataset_test = pd.read_csv('tatatest.csv')\n",
    "real_stock_price = dataset_test.iloc[:, 1:2].values"
   ]
  },
  {
   "cell_type": "code",
   "execution_count": 14,
   "metadata": {},
   "outputs": [
    {
     "name": "stdout",
     "output_type": "stream",
     "text": [
      "1/1 [==============================] - 1s 1s/step\n"
     ]
    }
   ],
   "source": [
    "# Getting the predicted stock price of 2017\n",
    "dataset_total = pd.concat((dataset_train['Open'], dataset_test['Open']), axis = 0)\n",
    "inputs = dataset_total[len(dataset_total) - len(dataset_test) - 60:].values\n",
    "inputs = inputs.reshape(-1,1)\n",
    "inputs = sc.transform(inputs)\n",
    "X_test = []\n",
    "for i in range(60, 76):\n",
    "    X_test.append(inputs[i-60:i, 0])\n",
    "X_test = np.array(X_test)\n",
    "X_test = np.reshape(X_test, (X_test.shape[0], X_test.shape[1], 1))\n",
    "predicted_stock_price = regressor.predict(X_test)\n",
    "predicted_stock_price = sc.inverse_transform(predicted_stock_price)"
   ]
  },
  {
   "cell_type": "code",
   "execution_count": 15,
   "metadata": {},
   "outputs": [
    {
     "data": {
      "image/png": "[encoded data removed]",
      "text/plain": [
       "<Figure size 432x288 with 1 Axes>"
      ]
     },
     "metadata": {
      "needs_background": "light"
     },
     "output_type": "display_data"
    }
   ],
   "source": [
    "# Visualising the results\n",
    "plt.plot(real_stock_price, color = 'red', label = 'Real TATA Stock Price')\n",
    "plt.plot(predicted_stock_price, color = 'blue', label = 'Predicted TAT Stock Price')\n",
    "plt.title('TATA Stock Price Prediction')\n",
    "plt.xlabel('Time')\n",
    "plt.ylabel('TATA Stock Price')\n",
    "plt.legend()\n",
    "plt.show()"
   ]
  },
  {
   "cell_type": "code",
   "execution_count": null,
   "metadata": {},
   "outputs": [],
   "source": []
  }
 ],
 "metadata": {
  "kernelspec": {
   "display_name": "Python 3 (ipykernel)",
   "language": "python",
   "name": "python3"
  },
  "language_info": {
   "codemirror_mode": {
    "name": "ipython",
    "version": 3
   },
   "file_extension": ".py",
   "mimetype": "text/x-python",
   "name": "python",
   "nbconvert_exporter": "python",
   "pygments_lexer": "ipython3",
   "version": "3.9.12"
  }
 },
 "nbformat": 4,
 "nbformat_minor": 2
}
